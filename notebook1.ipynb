{
 "cells": [
  {
   "cell_type": "markdown",
   "id": "58727a56",
   "metadata": {
    "papermill": {
     "duration": 0.00851,
     "end_time": "2024-06-06T21:25:48.028350",
     "exception": false,
     "start_time": "2024-06-06T21:25:48.019840",
     "status": "completed"
    },
    "tags": []
   },
   "source": [
    "data.shape"
   ]
  },
  {
   "cell_type": "code",
   "execution_count": 1,
   "id": "3ee324f0",
   "metadata": {
    "execution": {
     "iopub.execute_input": "2024-06-06T21:25:48.046764Z",
     "iopub.status.busy": "2024-06-06T21:25:48.046280Z",
     "iopub.status.idle": "2024-06-06T21:25:51.248088Z",
     "shell.execute_reply": "2024-06-06T21:25:51.246677Z"
    },
    "papermill": {
     "duration": 3.215074,
     "end_time": "2024-06-06T21:25:51.251500",
     "exception": false,
     "start_time": "2024-06-06T21:25:48.036426",
     "status": "completed"
    },
    "tags": []
   },
   "outputs": [
    {
     "data": {
      "image/png": "[encoded data removed]",
      "text/plain": [
       "<Figure size 1000x300 with 4 Axes>"
      ]
     },
     "metadata": {},
     "output_type": "display_data"
    }
   ],
   "source": [
    "import pandas as pd\n",
    "import numpy as np\n",
    "import matplotlib.pyplot as plt\n",
    "from sklearn.datasets import load_digits\n",
    "df=load_digits()\n",
    "\n",
    "_, axes=plt.subplots(nrows=1,ncols=4,figsize=(10, 3))\n",
    "for ax, image, label in zip(axes,df.images,df.target):\n",
    "    ax.set_axis_off()\n",
    "    ax.imshow(image,cmap=plt.cm.gray_r, interpolation=\"nearest\")\n",
    "    ax.set_title(\"training: %i\" %label)\n",
    "    \n",
    "    \n"
   ]
  },
  {
   "cell_type": "code",
   "execution_count": 2,
   "id": "0063c0dd",
   "metadata": {
    "execution": {
     "iopub.execute_input": "2024-06-06T21:25:51.271199Z",
     "iopub.status.busy": "2024-06-06T21:25:51.270504Z",
     "iopub.status.idle": "2024-06-06T21:25:51.279631Z",
     "shell.execute_reply": "2024-06-06T21:25:51.278268Z"
    },
    "papermill": {
     "duration": 0.022392,
     "end_time": "2024-06-06T21:25:51.282677",
     "exception": false,
     "start_time": "2024-06-06T21:25:51.260285",
     "status": "completed"
    },
    "tags": []
   },
   "outputs": [
    {
     "data": {
      "text/plain": [
       "(1797, 8, 8)"
      ]
     },
     "execution_count": 2,
     "metadata": {},
     "output_type": "execute_result"
    }
   ],
   "source": [
    "df.images.shape"
   ]
  },
  {
   "cell_type": "code",
   "execution_count": 3,
   "id": "186865a6",
   "metadata": {
    "execution": {
     "iopub.execute_input": "2024-06-06T21:25:51.302607Z",
     "iopub.status.busy": "2024-06-06T21:25:51.302206Z",
     "iopub.status.idle": "2024-06-06T21:25:51.311158Z",
     "shell.execute_reply": "2024-06-06T21:25:51.309809Z"
    },
    "papermill": {
     "duration": 0.022469,
     "end_time": "2024-06-06T21:25:51.313819",
     "exception": false,
     "start_time": "2024-06-06T21:25:51.291350",
     "status": "completed"
    },
    "tags": []
   },
   "outputs": [
    {
     "data": {
      "text/plain": [
       "array([[ 0.,  0.,  5., 13.,  9.,  1.,  0.,  0.],\n",
       "       [ 0.,  0., 13., 15., 10., 15.,  5.,  0.],\n",
       "       [ 0.,  3., 15.,  2.,  0., 11.,  8.,  0.],\n",
       "       [ 0.,  4., 12.,  0.,  0.,  8.,  8.,  0.],\n",
       "       [ 0.,  5.,  8.,  0.,  0.,  9.,  8.,  0.],\n",
       "       [ 0.,  4., 11.,  0.,  1., 12.,  7.,  0.],\n",
       "       [ 0.,  2., 14.,  5., 10., 12.,  0.,  0.],\n",
       "       [ 0.,  0.,  6., 13., 10.,  0.,  0.,  0.]])"
      ]
     },
     "execution_count": 3,
     "metadata": {},
     "output_type": "execute_result"
    }
   ],
   "source": [
    "df.images[0]"
   ]
  },
  {
   "cell_type": "code",
   "execution_count": 4,
   "id": "f99f1ce0",
   "metadata": {
    "execution": {
     "iopub.execute_input": "2024-06-06T21:25:51.333765Z",
     "iopub.status.busy": "2024-06-06T21:25:51.333344Z",
     "iopub.status.idle": "2024-06-06T21:25:51.341178Z",
     "shell.execute_reply": "2024-06-06T21:25:51.339814Z"
    },
    "papermill": {
     "duration": 0.02093,
     "end_time": "2024-06-06T21:25:51.343961",
     "exception": false,
     "start_time": "2024-06-06T21:25:51.323031",
     "status": "completed"
    },
    "tags": []
   },
   "outputs": [
    {
     "data": {
      "text/plain": [
       "(8, 8)"
      ]
     },
     "execution_count": 4,
     "metadata": {},
     "output_type": "execute_result"
    }
   ],
   "source": [
    "df.images[0].shape"
   ]
  },
  {
   "cell_type": "code",
   "execution_count": 5,
   "id": "754d5bce",
   "metadata": {
    "execution": {
     "iopub.execute_input": "2024-06-06T21:25:51.365018Z",
     "iopub.status.busy": "2024-06-06T21:25:51.364614Z",
     "iopub.status.idle": "2024-06-06T21:25:51.372941Z",
     "shell.execute_reply": "2024-06-06T21:25:51.371422Z"
    },
    "papermill": {
     "duration": 0.021533,
     "end_time": "2024-06-06T21:25:51.375773",
     "exception": false,
     "start_time": "2024-06-06T21:25:51.354240",
     "status": "completed"
    },
    "tags": []
   },
   "outputs": [
    {
     "data": {
      "text/plain": [
       "1797"
      ]
     },
     "execution_count": 5,
     "metadata": {},
     "output_type": "execute_result"
    }
   ],
   "source": [
    "len(df.images)"
   ]
  },
  {
   "cell_type": "code",
   "execution_count": 6,
   "id": "b0e271f1",
   "metadata": {
    "execution": {
     "iopub.execute_input": "2024-06-06T21:25:51.396006Z",
     "iopub.status.busy": "2024-06-06T21:25:51.395481Z",
     "iopub.status.idle": "2024-06-06T21:25:51.402034Z",
     "shell.execute_reply": "2024-06-06T21:25:51.400803Z"
    },
    "papermill": {
     "duration": 0.020116,
     "end_time": "2024-06-06T21:25:51.404835",
     "exception": false,
     "start_time": "2024-06-06T21:25:51.384719",
     "status": "completed"
    },
    "tags": []
   },
   "outputs": [],
   "source": [
    "n_samples=len(df.images)\n",
    "data=df.images.reshape((n_samples,-1))"
   ]
  },
  {
   "cell_type": "code",
   "execution_count": 7,
   "id": "8e2f776c",
   "metadata": {
    "execution": {
     "iopub.execute_input": "2024-06-06T21:25:51.425171Z",
     "iopub.status.busy": "2024-06-06T21:25:51.424084Z",
     "iopub.status.idle": "2024-06-06T21:25:51.432774Z",
     "shell.execute_reply": "2024-06-06T21:25:51.431488Z"
    },
    "papermill": {
     "duration": 0.021682,
     "end_time": "2024-06-06T21:25:51.435401",
     "exception": false,
     "start_time": "2024-06-06T21:25:51.413719",
     "status": "completed"
    },
    "tags": []
   },
   "outputs": [
    {
     "data": {
      "text/plain": [
       "array([ 0.,  0.,  5., 13.,  9.,  1.,  0.,  0.,  0.,  0., 13., 15., 10.,\n",
       "       15.,  5.,  0.,  0.,  3., 15.,  2.,  0., 11.,  8.,  0.,  0.,  4.,\n",
       "       12.,  0.,  0.,  8.,  8.,  0.,  0.,  5.,  8.,  0.,  0.,  9.,  8.,\n",
       "        0.,  0.,  4., 11.,  0.,  1., 12.,  7.,  0.,  0.,  2., 14.,  5.,\n",
       "       10., 12.,  0.,  0.,  0.,  0.,  6., 13., 10.,  0.,  0.,  0.])"
      ]
     },
     "execution_count": 7,
     "metadata": {},
     "output_type": "execute_result"
    }
   ],
   "source": [
    "data[0]"
   ]
  },
  {
   "cell_type": "code",
   "execution_count": 8,
   "id": "7152b904",
   "metadata": {
    "execution": {
     "iopub.execute_input": "2024-06-06T21:25:51.456344Z",
     "iopub.status.busy": "2024-06-06T21:25:51.455930Z",
     "iopub.status.idle": "2024-06-06T21:25:51.463465Z",
     "shell.execute_reply": "2024-06-06T21:25:51.462166Z"
    },
    "papermill": {
     "duration": 0.022146,
     "end_time": "2024-06-06T21:25:51.466973",
     "exception": false,
     "start_time": "2024-06-06T21:25:51.444827",
     "status": "completed"
    },
    "tags": []
   },
   "outputs": [
    {
     "data": {
      "text/plain": [
       "(64,)"
      ]
     },
     "execution_count": 8,
     "metadata": {},
     "output_type": "execute_result"
    }
   ],
   "source": [
    "data[0].shape"
   ]
  },
  {
   "cell_type": "code",
   "execution_count": 9,
   "id": "875bb089",
   "metadata": {
    "execution": {
     "iopub.execute_input": "2024-06-06T21:25:51.488891Z",
     "iopub.status.busy": "2024-06-06T21:25:51.488395Z",
     "iopub.status.idle": "2024-06-06T21:25:51.497160Z",
     "shell.execute_reply": "2024-06-06T21:25:51.495656Z"
    },
    "papermill": {
     "duration": 0.022661,
     "end_time": "2024-06-06T21:25:51.499930",
     "exception": false,
     "start_time": "2024-06-06T21:25:51.477269",
     "status": "completed"
    },
    "tags": []
   },
   "outputs": [
    {
     "data": {
      "text/plain": [
       "(1797, 64)"
      ]
     },
     "execution_count": 9,
     "metadata": {},
     "output_type": "execute_result"
    }
   ],
   "source": [
    "data.shape"
   ]
  },
  {
   "cell_type": "code",
   "execution_count": 10,
   "id": "209e0fe0",
   "metadata": {
    "execution": {
     "iopub.execute_input": "2024-06-06T21:25:51.520467Z",
     "iopub.status.busy": "2024-06-06T21:25:51.519998Z",
     "iopub.status.idle": "2024-06-06T21:25:51.529329Z",
     "shell.execute_reply": "2024-06-06T21:25:51.527870Z"
    },
    "papermill": {
     "duration": 0.023201,
     "end_time": "2024-06-06T21:25:51.532453",
     "exception": false,
     "start_time": "2024-06-06T21:25:51.509252",
     "status": "completed"
    },
    "tags": []
   },
   "outputs": [
    {
     "data": {
      "text/plain": [
       "0.0"
      ]
     },
     "execution_count": 10,
     "metadata": {},
     "output_type": "execute_result"
    }
   ],
   "source": [
    "data.min()"
   ]
  },
  {
   "cell_type": "code",
   "execution_count": 11,
   "id": "afb9a2b1",
   "metadata": {
    "execution": {
     "iopub.execute_input": "2024-06-06T21:25:51.553349Z",
     "iopub.status.busy": "2024-06-06T21:25:51.552861Z",
     "iopub.status.idle": "2024-06-06T21:25:51.562183Z",
     "shell.execute_reply": "2024-06-06T21:25:51.560656Z"
    },
    "papermill": {
     "duration": 0.023132,
     "end_time": "2024-06-06T21:25:51.565091",
     "exception": false,
     "start_time": "2024-06-06T21:25:51.541959",
     "status": "completed"
    },
    "tags": []
   },
   "outputs": [
    {
     "data": {
      "text/plain": [
       "16.0"
      ]
     },
     "execution_count": 11,
     "metadata": {},
     "output_type": "execute_result"
    }
   ],
   "source": [
    "data.max()"
   ]
  },
  {
   "cell_type": "code",
   "execution_count": 12,
   "id": "c949140d",
   "metadata": {
    "execution": {
     "iopub.execute_input": "2024-06-06T21:25:51.586070Z",
     "iopub.status.busy": "2024-06-06T21:25:51.585594Z",
     "iopub.status.idle": "2024-06-06T21:25:51.591982Z",
     "shell.execute_reply": "2024-06-06T21:25:51.590609Z"
    },
    "papermill": {
     "duration": 0.019927,
     "end_time": "2024-06-06T21:25:51.594400",
     "exception": false,
     "start_time": "2024-06-06T21:25:51.574473",
     "status": "completed"
    },
    "tags": []
   },
   "outputs": [],
   "source": [
    "data=data/16"
   ]
  },
  {
   "cell_type": "code",
   "execution_count": 13,
   "id": "24077adc",
   "metadata": {
    "execution": {
     "iopub.execute_input": "2024-06-06T21:25:51.615387Z",
     "iopub.status.busy": "2024-06-06T21:25:51.614913Z",
     "iopub.status.idle": "2024-06-06T21:25:51.623719Z",
     "shell.execute_reply": "2024-06-06T21:25:51.622454Z"
    },
    "papermill": {
     "duration": 0.022487,
     "end_time": "2024-06-06T21:25:51.626257",
     "exception": false,
     "start_time": "2024-06-06T21:25:51.603770",
     "status": "completed"
    },
    "tags": []
   },
   "outputs": [
    {
     "data": {
      "text/plain": [
       "0.0"
      ]
     },
     "execution_count": 13,
     "metadata": {},
     "output_type": "execute_result"
    }
   ],
   "source": [
    "data.min()"
   ]
  },
  {
   "cell_type": "code",
   "execution_count": 14,
   "id": "36fe69cc",
   "metadata": {
    "execution": {
     "iopub.execute_input": "2024-06-06T21:25:51.648102Z",
     "iopub.status.busy": "2024-06-06T21:25:51.646756Z",
     "iopub.status.idle": "2024-06-06T21:25:51.655531Z",
     "shell.execute_reply": "2024-06-06T21:25:51.654128Z"
    },
    "papermill": {
     "duration": 0.022817,
     "end_time": "2024-06-06T21:25:51.658488",
     "exception": false,
     "start_time": "2024-06-06T21:25:51.635671",
     "status": "completed"
    },
    "tags": []
   },
   "outputs": [
    {
     "data": {
      "text/plain": [
       "1.0"
      ]
     },
     "execution_count": 14,
     "metadata": {},
     "output_type": "execute_result"
    }
   ],
   "source": [
    "data.max()"
   ]
  },
  {
   "cell_type": "code",
   "execution_count": 15,
   "id": "d5ff452d",
   "metadata": {
    "execution": {
     "iopub.execute_input": "2024-06-06T21:25:51.681280Z",
     "iopub.status.busy": "2024-06-06T21:25:51.680817Z",
     "iopub.status.idle": "2024-06-06T21:25:51.690563Z",
     "shell.execute_reply": "2024-06-06T21:25:51.689028Z"
    },
    "papermill": {
     "duration": 0.025066,
     "end_time": "2024-06-06T21:25:51.693411",
     "exception": false,
     "start_time": "2024-06-06T21:25:51.668345",
     "status": "completed"
    },
    "tags": []
   },
   "outputs": [
    {
     "data": {
      "text/plain": [
       "array([0.    , 0.    , 0.3125, 0.8125, 0.5625, 0.0625, 0.    , 0.    ,\n",
       "       0.    , 0.    , 0.8125, 0.9375, 0.625 , 0.9375, 0.3125, 0.    ,\n",
       "       0.    , 0.1875, 0.9375, 0.125 , 0.    , 0.6875, 0.5   , 0.    ,\n",
       "       0.    , 0.25  , 0.75  , 0.    , 0.    , 0.5   , 0.5   , 0.    ,\n",
       "       0.    , 0.3125, 0.5   , 0.    , 0.    , 0.5625, 0.5   , 0.    ,\n",
       "       0.    , 0.25  , 0.6875, 0.    , 0.0625, 0.75  , 0.4375, 0.    ,\n",
       "       0.    , 0.125 , 0.875 , 0.3125, 0.625 , 0.75  , 0.    , 0.    ,\n",
       "       0.    , 0.    , 0.375 , 0.8125, 0.625 , 0.    , 0.    , 0.    ])"
      ]
     },
     "execution_count": 15,
     "metadata": {},
     "output_type": "execute_result"
    }
   ],
   "source": [
    "data[0]"
   ]
  },
  {
   "cell_type": "code",
   "execution_count": 16,
   "id": "0e92d244",
   "metadata": {
    "execution": {
     "iopub.execute_input": "2024-06-06T21:25:51.716967Z",
     "iopub.status.busy": "2024-06-06T21:25:51.716498Z",
     "iopub.status.idle": "2024-06-06T21:25:51.824370Z",
     "shell.execute_reply": "2024-06-06T21:25:51.822937Z"
    },
    "papermill": {
     "duration": 0.123129,
     "end_time": "2024-06-06T21:25:51.827610",
     "exception": false,
     "start_time": "2024-06-06T21:25:51.704481",
     "status": "completed"
    },
    "tags": []
   },
   "outputs": [],
   "source": [
    "from sklearn.model_selection import train_test_split"
   ]
  },
  {
   "cell_type": "code",
   "execution_count": 17,
   "id": "e9080057",
   "metadata": {
    "execution": {
     "iopub.execute_input": "2024-06-06T21:25:51.850360Z",
     "iopub.status.busy": "2024-06-06T21:25:51.849942Z",
     "iopub.status.idle": "2024-06-06T21:25:51.862143Z",
     "shell.execute_reply": "2024-06-06T21:25:51.860591Z"
    },
    "papermill": {
     "duration": 0.027148,
     "end_time": "2024-06-06T21:25:51.865140",
     "exception": false,
     "start_time": "2024-06-06T21:25:51.837992",
     "status": "completed"
    },
    "tags": []
   },
   "outputs": [
    {
     "data": {
      "text/plain": [
       "((1257, 64), (540, 64), (1257,), (540,))"
      ]
     },
     "execution_count": 17,
     "metadata": {},
     "output_type": "execute_result"
    }
   ],
   "source": [
    "x_train,x_test,y_train,y_test=train_test_split(data,df.target,test_size=0.3)\n",
    "x_train.shape,x_test.shape,y_train.shape,y_test.shape"
   ]
  },
  {
   "cell_type": "code",
   "execution_count": 18,
   "id": "92d1ec96",
   "metadata": {
    "execution": {
     "iopub.execute_input": "2024-06-06T21:25:51.887284Z",
     "iopub.status.busy": "2024-06-06T21:25:51.886890Z",
     "iopub.status.idle": "2024-06-06T21:25:52.717653Z",
     "shell.execute_reply": "2024-06-06T21:25:52.716225Z"
    },
    "papermill": {
     "duration": 0.845205,
     "end_time": "2024-06-06T21:25:52.720574",
     "exception": false,
     "start_time": "2024-06-06T21:25:51.875369",
     "status": "completed"
    },
    "tags": []
   },
   "outputs": [
    {
     "data": {
      "text/html": [
       "<style>#sk-container-id-1 {color: black;background-color: white;}#sk-container-id-1 pre{padding: 0;}#sk-container-id-1 div.sk-toggleable {background-color: white;}#sk-container-id-1 label.sk-toggleable__label {cursor: pointer;display: block;width: 100%;margin-bottom: 0;padding: 0.3em;box-sizing: border-box;text-align: center;}#sk-container-id-1 label.sk-toggleable__label-arrow:before {content: \"▸\";float: left;margin-right: 0.25em;color: #696969;}#sk-container-id-1 label.sk-toggleable__label-arrow:hover:before {color: black;}#sk-container-id-1 div.sk-estimator:hover label.sk-toggleable__label-arrow:before {color: black;}#sk-container-id-1 div.sk-toggleable__content {max-height: 0;max-width: 0;overflow: hidden;text-align: left;background-color: #f0f8ff;}#sk-container-id-1 div.sk-toggleable__content pre {margin: 0.2em;color: black;border-radius: 0.25em;background-color: #f0f8ff;}#sk-container-id-1 input.sk-toggleable__control:checked~div.sk-toggleable__content {max-height: 200px;max-width: 100%;overflow: auto;}#sk-container-id-1 input.sk-toggleable__control:checked~label.sk-toggleable__label-arrow:before {content: \"▾\";}#sk-container-id-1 div.sk-estimator input.sk-toggleable__control:checked~label.sk-toggleable__label {background-color: #d4ebff;}#sk-container-id-1 div.sk-label input.sk-toggleable__control:checked~label.sk-toggleable__label {background-color: #d4ebff;}#sk-container-id-1 input.sk-hidden--visually {border: 0;clip: rect(1px 1px 1px 1px);clip: rect(1px, 1px, 1px, 1px);height: 1px;margin: -1px;overflow: hidden;padding: 0;position: absolute;width: 1px;}#sk-container-id-1 div.sk-estimator {font-family: monospace;background-color: #f0f8ff;border: 1px dotted black;border-radius: 0.25em;box-sizing: border-box;margin-bottom: 0.5em;}#sk-container-id-1 div.sk-estimator:hover {background-color: #d4ebff;}#sk-container-id-1 div.sk-parallel-item::after {content: \"\";width: 100%;border-bottom: 1px solid gray;flex-grow: 1;}#sk-container-id-1 div.sk-label:hover label.sk-toggleable__label {background-color: #d4ebff;}#sk-container-id-1 div.sk-serial::before {content: \"\";position: absolute;border-left: 1px solid gray;box-sizing: border-box;top: 0;bottom: 0;left: 50%;z-index: 0;}#sk-container-id-1 div.sk-serial {display: flex;flex-direction: column;align-items: center;background-color: white;padding-right: 0.2em;padding-left: 0.2em;position: relative;}#sk-container-id-1 div.sk-item {position: relative;z-index: 1;}#sk-container-id-1 div.sk-parallel {display: flex;align-items: stretch;justify-content: center;background-color: white;position: relative;}#sk-container-id-1 div.sk-item::before, #sk-container-id-1 div.sk-parallel-item::before {content: \"\";position: absolute;border-left: 1px solid gray;box-sizing: border-box;top: 0;bottom: 0;left: 50%;z-index: -1;}#sk-container-id-1 div.sk-parallel-item {display: flex;flex-direction: column;z-index: 1;position: relative;background-color: white;}#sk-container-id-1 div.sk-parallel-item:first-child::after {align-self: flex-end;width: 50%;}#sk-container-id-1 div.sk-parallel-item:last-child::after {align-self: flex-start;width: 50%;}#sk-container-id-1 div.sk-parallel-item:only-child::after {width: 0;}#sk-container-id-1 div.sk-dashed-wrapped {border: 1px dashed gray;margin: 0 0.4em 0.5em 0.4em;box-sizing: border-box;padding-bottom: 0.4em;background-color: white;}#sk-container-id-1 div.sk-label label {font-family: monospace;font-weight: bold;display: inline-block;line-height: 1.2em;}#sk-container-id-1 div.sk-label-container {text-align: center;}#sk-container-id-1 div.sk-container {/* jupyter's `normalize.less` sets `[hidden] { display: none; }` but bootstrap.min.css set `[hidden] { display: none !important; }` so we also need the `!important` here to be able to override the default hidden behavior on the sphinx rendered scikit-learn.org. See: https://github.com/scikit-learn/scikit-learn/issues/21755 */display: inline-block !important;position: relative;}#sk-container-id-1 div.sk-text-repr-fallback {display: none;}</style><div id=\"sk-container-id-1\" class=\"sk-top-container\"><div class=\"sk-text-repr-fallback\"><pre>RandomForestClassifier()</pre><b>In a Jupyter environment, please rerun this cell to show the HTML representation or trust the notebook. <br />On GitHub, the HTML representation is unable to render, please try loading this page with nbviewer.org.</b></div><div class=\"sk-container\" hidden><div class=\"sk-item\"><div class=\"sk-estimator sk-toggleable\"><input class=\"sk-toggleable__control sk-hidden--visually\" id=\"sk-estimator-id-1\" type=\"checkbox\" checked><label for=\"sk-estimator-id-1\" class=\"sk-toggleable__label sk-toggleable__label-arrow\">RandomForestClassifier</label><div class=\"sk-toggleable__content\"><pre>RandomForestClassifier()</pre></div></div></div></div></div>"
      ],
      "text/plain": [
       "RandomForestClassifier()"
      ]
     },
     "execution_count": 18,
     "metadata": {},
     "output_type": "execute_result"
    }
   ],
   "source": [
    "from sklearn.ensemble import RandomForestClassifier\n",
    "rf=RandomForestClassifier()\n",
    "rf.fit(x_train,y_train)"
   ]
  },
  {
   "cell_type": "code",
   "execution_count": 19,
   "id": "ab582214",
   "metadata": {
    "execution": {
     "iopub.execute_input": "2024-06-06T21:25:52.743802Z",
     "iopub.status.busy": "2024-06-06T21:25:52.743348Z",
     "iopub.status.idle": "2024-06-06T21:25:52.773631Z",
     "shell.execute_reply": "2024-06-06T21:25:52.772097Z"
    },
    "papermill": {
     "duration": 0.045244,
     "end_time": "2024-06-06T21:25:52.776402",
     "exception": false,
     "start_time": "2024-06-06T21:25:52.731158",
     "status": "completed"
    },
    "tags": []
   },
   "outputs": [
    {
     "data": {
      "text/plain": [
       "array([7, 1, 1, 4, 8, 5, 4, 6, 8, 4, 0, 6, 0, 4, 6, 4, 6, 2, 1, 7, 3, 5,\n",
       "       0, 7, 5, 0, 8, 1, 4, 0, 8, 5, 2, 4, 3, 7, 6, 9, 3, 0, 5, 7, 2, 9,\n",
       "       0, 0, 6, 7, 2, 7, 9, 1, 2, 5, 3, 2, 6, 5, 1, 6, 2, 6, 2, 7, 9, 3,\n",
       "       5, 0, 6, 3, 8, 7, 7, 1, 2, 2, 4, 6, 5, 8, 3, 5, 7, 1, 3, 8, 6, 6,\n",
       "       7, 9, 2, 7, 0, 0, 6, 6, 7, 8, 3, 4, 0, 1, 6, 1, 5, 8, 3, 0, 1, 8,\n",
       "       0, 1, 7, 6, 7, 4, 5, 0, 8, 9, 8, 0, 9, 0, 3, 0, 4, 0, 1, 6, 6, 5,\n",
       "       4, 0, 3, 4, 7, 2, 4, 0, 3, 8, 8, 4, 3, 9, 0, 5, 3, 5, 7, 6, 1, 1,\n",
       "       5, 2, 1, 3, 1, 1, 7, 8, 6, 8, 0, 2, 2, 1, 7, 2, 6, 0, 1, 3, 9, 6,\n",
       "       6, 0, 8, 8, 3, 7, 9, 2, 7, 4, 7, 2, 2, 4, 0, 1, 9, 1, 8, 2, 8, 2,\n",
       "       8, 6, 9, 7, 7, 6, 6, 2, 1, 4, 4, 4, 0, 1, 4, 1, 9, 3, 7, 6, 2, 2,\n",
       "       5, 1, 9, 8, 5, 7, 0, 3, 7, 3, 9, 3, 9, 2, 8, 1, 9, 3, 1, 4, 5, 0,\n",
       "       7, 2, 9, 6, 1, 1, 1, 9, 1, 3, 0, 3, 9, 9, 3, 5, 0, 1, 6, 1, 1, 6,\n",
       "       4, 0, 8, 3, 0, 4, 1, 9, 0, 1, 7, 9, 6, 6, 8, 2, 3, 1, 6, 2, 3, 4,\n",
       "       7, 3, 3, 1, 1, 5, 7, 1, 5, 1, 9, 4, 7, 7, 6, 0, 3, 8, 1, 0, 6, 5,\n",
       "       7, 5, 4, 0, 0, 9, 9, 5, 1, 2, 5, 4, 3, 0, 8, 3, 4, 7, 8, 8, 5, 2,\n",
       "       8, 2, 7, 5, 1, 2, 9, 0, 0, 5, 7, 1, 1, 4, 9, 6, 7, 4, 5, 3, 5, 6,\n",
       "       8, 1, 8, 2, 3, 7, 0, 5, 0, 4, 6, 0, 6, 9, 9, 5, 6, 3, 4, 7, 5, 6,\n",
       "       3, 6, 0, 8, 0, 9, 7, 5, 9, 3, 2, 5, 8, 7, 9, 0, 5, 9, 2, 6, 2, 1,\n",
       "       2, 9, 7, 7, 2, 8, 2, 5, 6, 0, 2, 5, 5, 9, 2, 9, 4, 8, 1, 6, 1, 6,\n",
       "       9, 4, 2, 7, 7, 2, 5, 7, 4, 1, 0, 8, 3, 5, 9, 5, 4, 1, 2, 7, 4, 7,\n",
       "       4, 3, 4, 7, 7, 2, 4, 6, 8, 9, 8, 2, 0, 6, 1, 5, 0, 5, 3, 9, 8, 7,\n",
       "       8, 3, 0, 7, 5, 8, 3, 1, 9, 3, 7, 2, 7, 6, 0, 5, 6, 4, 4, 1, 9, 2,\n",
       "       6, 0, 3, 2, 9, 4, 5, 9, 2, 1, 3, 4, 4, 1, 0, 5, 3, 6, 4, 8, 1, 4,\n",
       "       1, 7, 3, 6, 8, 7, 9, 2, 1, 8, 4, 1, 2, 0, 0, 8, 1, 1, 5, 1, 6, 6,\n",
       "       6, 6, 0, 3, 6, 5, 8, 8, 3, 1, 5, 4])"
      ]
     },
     "execution_count": 19,
     "metadata": {},
     "output_type": "execute_result"
    }
   ],
   "source": [
    "y_pred=rf.predict(x_test)\n",
    "y_pred"
   ]
  },
  {
   "cell_type": "code",
   "execution_count": 20,
   "id": "aaa3048c",
   "metadata": {
    "execution": {
     "iopub.execute_input": "2024-06-06T21:25:52.800016Z",
     "iopub.status.busy": "2024-06-06T21:25:52.798812Z",
     "iopub.status.idle": "2024-06-06T21:25:52.810468Z",
     "shell.execute_reply": "2024-06-06T21:25:52.809085Z"
    },
    "papermill": {
     "duration": 0.026664,
     "end_time": "2024-06-06T21:25:52.813665",
     "exception": false,
     "start_time": "2024-06-06T21:25:52.787001",
     "status": "completed"
    },
    "tags": []
   },
   "outputs": [
    {
     "data": {
      "text/plain": [
       "array([[58,  0,  0,  0,  0,  0,  0,  0,  0,  0],\n",
       "       [ 0, 64,  0,  0,  0,  1,  0,  0,  0,  0],\n",
       "       [ 0,  0, 52,  0,  0,  0,  0,  0,  0,  0],\n",
       "       [ 0,  0,  0, 51,  0,  1,  0,  1,  0,  0],\n",
       "       [ 0,  0,  0,  0, 50,  0,  0,  2,  0,  0],\n",
       "       [ 0,  0,  0,  0,  0, 50,  0,  0,  0,  0],\n",
       "       [ 0,  0,  0,  0,  0,  0, 59,  0,  0,  0],\n",
       "       [ 0,  0,  0,  0,  0,  0,  0, 55,  0,  0],\n",
       "       [ 0,  2,  0,  0,  0,  0,  0,  0, 48,  0],\n",
       "       [ 0,  0,  0,  0,  0,  0,  0,  0,  0, 46]])"
      ]
     },
     "execution_count": 20,
     "metadata": {},
     "output_type": "execute_result"
    }
   ],
   "source": [
    "from sklearn.metrics import confusion_matrix,classification_report\n",
    "confusion_matrix(y_test,y_pred)"
   ]
  },
  {
   "cell_type": "code",
   "execution_count": 21,
   "id": "e68bdf16",
   "metadata": {
    "execution": {
     "iopub.execute_input": "2024-06-06T21:25:52.838841Z",
     "iopub.status.busy": "2024-06-06T21:25:52.838348Z",
     "iopub.status.idle": "2024-06-06T21:25:52.858285Z",
     "shell.execute_reply": "2024-06-06T21:25:52.856845Z"
    },
    "papermill": {
     "duration": 0.036503,
     "end_time": "2024-06-06T21:25:52.861617",
     "exception": false,
     "start_time": "2024-06-06T21:25:52.825114",
     "status": "completed"
    },
    "tags": []
   },
   "outputs": [
    {
     "name": "stdout",
     "output_type": "stream",
     "text": [
      "              precision    recall  f1-score   support\n",
      "\n",
      "           0       1.00      1.00      1.00        58\n",
      "           1       0.97      0.98      0.98        65\n",
      "           2       1.00      1.00      1.00        52\n",
      "           3       1.00      0.96      0.98        53\n",
      "           4       1.00      0.96      0.98        52\n",
      "           5       0.96      1.00      0.98        50\n",
      "           6       1.00      1.00      1.00        59\n",
      "           7       0.95      1.00      0.97        55\n",
      "           8       1.00      0.96      0.98        50\n",
      "           9       1.00      1.00      1.00        46\n",
      "\n",
      "    accuracy                           0.99       540\n",
      "   macro avg       0.99      0.99      0.99       540\n",
      "weighted avg       0.99      0.99      0.99       540\n",
      "\n"
     ]
    }
   ],
   "source": [
    "print(classification_report(y_test,y_pred))"
   ]
  },
  {
   "cell_type": "markdown",
   "id": "94fc87ed",
   "metadata": {
    "papermill": {
     "duration": 0.011037,
     "end_time": "2024-06-06T21:25:52.884617",
     "exception": false,
     "start_time": "2024-06-06T21:25:52.873580",
     "status": "completed"
    },
    "tags": []
   },
   "source": []
  }
 ],
 "metadata": {
  "kaggle": {
   "accelerator": "none",
   "dataSources": [],
   "dockerImageVersionId": 30732,
   "isGpuEnabled": false,
   "isInternetEnabled": false,
   "language": "python",
   "sourceType": "notebook"
  },
  "kernelspec": {
   "display_name": "Python 3",
   "language": "python",
   "name": "python3"
  },
  "language_info": {
   "codemirror_mode": {
    "name": "ipython",
    "version": 3
   },
   "file_extension": ".py",
   "mimetype": "text/x-python",
   "name": "python",
   "nbconvert_exporter": "python",
   "pygments_lexer": "ipython3",
   "version": "3.10.13"
  },
  "papermill": {
   "default_parameters": {},
   "duration": 11.233176,
   "end_time": "2024-06-06T21:25:55.808288",
   "environment_variables": {},
   "exception": null,
   "input_path": "__notebook__.ipynb",
   "output_path": "__notebook__.ipynb",
   "parameters": {},
   "start_time": "2024-06-06T21:25:44.575112",
   "version": "2.5.0"
  }
 },
 "nbformat": 4,
 "nbformat_minor": 5
}
